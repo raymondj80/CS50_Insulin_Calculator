{
  "nbformat": 4,
  "nbformat_minor": 0,
  "metadata": {
    "colab": {
      "name": "Script.ipynb",
      "provenance": [],
      "collapsed_sections": [],
      "toc_visible": true,
      "mount_file_id": "1-4uQIF8Hshw8x5EyNEoz5SooWij8Whip",
      "authorship_tag": "ABX9TyN9cIzU9UR6ah+fiyqCFpoI",
      "include_colab_link": true
    },
    "kernelspec": {
      "name": "python3",
      "display_name": "Python 3"
    }
  },
  "cells": [
    {
      "cell_type": "markdown",
      "metadata": {
        "id": "view-in-github",
        "colab_type": "text"
      },
      "source": [
        "<a href=\"https://colab.research.google.com/github/raymondj80/CS50_Insulin_Calculator/blob/master/Script.ipynb\" target=\"_parent\"><img src=\"https://colab.research.google.com/assets/colab-badge.svg\" alt=\"Open In Colab\"/></a>"
      ]
    },
    {
      "cell_type": "code",
      "metadata": {
        "id": "NDPmKbyW5CBB",
        "colab_type": "code",
        "colab": {}
      },
      "source": [
        "#TODO: Import Code\n",
        "from google.colab import drive\n",
        "\n",
        "#copies char between delim in infile\n",
        "def copy_between(infile,delim):\n",
        "  for line in infile:\n",
        "      if delim in line.strip():\n",
        "        s = line.strip()\n",
        "        return s.strip(delim).strip('</')\n",
        "\n",
        "# returns tth xrdml file as dictionary\n",
        "def upload_xrdml(filename):\n",
        "  # read tth and intensity values\n",
        "  with open(filename,'r') as file:\n",
        "    tth_beg = float(copy_between(file,'<startPosition>'))\n",
        "    tth_end = float(copy_between(file,'<endPosition>'))\n",
        "    intensities = [float(item) for item in copy_between(file,'<intensities unit=\"counts\">').split(\" \")]\n",
        "    \n",
        "  #create dictionary\n",
        "    d = {}\n",
        "    tth = tth_beg\n",
        "    incr = (tth_end - tth_beg) / (len(intensities) - 1)\n",
        "    for i in intensities:\n",
        "      d[tth] = i\n",
        "      tth = tth + incr\n",
        "  return d\n",
        "\n",
        "test = upload_xrdml('/content/drive/My Drive/Mundy Group/Three Muskasteers Group/Code/test.xrdml')\n",
        "\n",
        "\n",
        "\n",
        "#TODO: Data Analysis\n",
        "\n",
        "\n",
        "\n",
        "#TODO: Data Output"
      ],
      "execution_count": 0,
      "outputs": []
    }
  ]
}